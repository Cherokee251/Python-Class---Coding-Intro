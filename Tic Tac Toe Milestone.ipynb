{
 "cells": [
  {
   "cell_type": "code",
   "execution_count": 28,
   "metadata": {},
   "outputs": [
    {
     "name": "stdout",
     "output_type": "stream",
     "text": [
      "w w w w\n",
      "Please input the correct counter type(input either x, X, o, O or 0)\n"
     ]
    }
   ],
   "source": [
    "#Draft\n",
    "mybool=True\n",
    "(p1,p1counter)=(input(),input())\n",
    "(p2,p2counter)=(input(),input())\n",
    "print(p1,p1counter,p2,p2counter)\n",
    "\n",
    "if p1counter == \"x\":\n",
    "    mybool=True\n",
    "elif p1counter == \"X\":\n",
    "    mybool=True\n",
    "elif p1counter == \"o\":\n",
    "    mybool=True\n",
    "elif p1counter == \"O\":\n",
    "    mybool=True\n",
    "elif p1counter == \"0\":\n",
    "    mybool=True\n",
    "else:\n",
    "    mybool=False\n",
    "\n",
    "if mybool==False:\n",
    "    print(\"Please input the correct counter type(input either x, X, o, O or 0)\")\n",
    "else:"
   ]
  },
  {
   "cell_type": "code",
   "execution_count": 84,
   "metadata": {},
   "outputs": [
    {
     "name": "stdout",
     "output_type": "stream",
     "text": [
      "Player 1's name is Jonathan and their counter is O!, player 2's name is Johan and their counter isP!\n",
      "Jonathan's counter is O!\n",
      "Please input the correct counter type for Johan(input either X, or O)\n",
      "Please input the correct counter type for Johan(input either X, or O)\n",
      "Johan's counter is X!\n"
     ]
    }
   ],
   "source": [
    "#Stating player names and their counters\n",
    "mybool=True\n",
    "p1,p1counter=input(),input()\n",
    "p2,p2counter=input(),input()\n",
    "print(f\"Player 1's name is {p1}! and player 2's name is {p2}!\")\n",
    "count = 0\n",
    "count2 = 0\n",
    "\n",
    "def counter_verification(p1counter):\n",
    "    if p1counter == \"X\":\n",
    "        return True\n",
    "    elif p1counter == \"O\":\n",
    "        return True\n",
    "    else:\n",
    "        return False\n",
    "if counter_verification(p1counter) == False:\n",
    "    while mybool==True:\n",
    "        print(f\"Please input the correct counter type for {p1}(input either X, or O)\")\n",
    "        p1counter=input()\n",
    "        if counter_verification(p1counter) == True:\n",
    "            mybool=False\n",
    "        count+=1\n",
    "        if count == 25:\n",
    "            print(\"try again\")\n",
    "            break\n",
    "if p1counter==\"O\":\n",
    "    def counter_verification(p1counter):\n",
    "        if p1counter == \"X\":\n",
    "            return True\n",
    "        else:\n",
    "            return False\n",
    "    print(f\"{p1}'s counter is O!\")\n",
    "else:\n",
    "    def counter_verification(p1counter):\n",
    "        if p1counter == \"O\":\n",
    "            return True\n",
    "        else:\n",
    "            return False\n",
    "    print(f\"{p1}'s counter is X!\")\n",
    "mybool=True\n",
    "if counter_verification(p2counter) == False:\n",
    "    while mybool==True:\n",
    "        print(f\"Please input the correct counter type for {p2}(input either X, or O)\")\n",
    "        p2counter=input()\n",
    "        if counter_verification(p2counter) == True:\n",
    "            mybool=False\n",
    "        count2+=1\n",
    "        if count2 == 25:\n",
    "            print(\"try again\")\n",
    "            break\n",
    "if p2counter==\"O\":\n",
    "    print(f\"{p2}'s counter is O!\")\n",
    "else:\n",
    "    print(f\"{p2}'s counter is X!\")"
   ]
  }
 ],
 "metadata": {
  "language_info": {
   "name": "python"
  },
  "orig_nbformat": 4
 },
 "nbformat": 4,
 "nbformat_minor": 2
}
