{
 "cells": [
  {
   "cell_type": "code",
   "execution_count": 28,
   "metadata": {},
   "outputs": [
    {
     "name": "stdout",
     "output_type": "stream",
     "text": [
      "w w w w\n",
      "Please input the correct counter type(input either x, X, o, O or 0)\n"
     ]
    }
   ],
   "source": [
    "#Outdated Draft\n",
    "mybool=True\n",
    "(p1,p1counter)=(input(),input())\n",
    "(p2,p2counter)=(input(),input())\n",
    "print(p1,p1counter,p2,p2counter)\n",
    "\n",
    "if p1counter == \"x\":\n",
    "    mybool=True\n",
    "elif p1counter == \"X\":\n",
    "    mybool=True\n",
    "elif p1counter == \"o\":\n",
    "    mybool=True\n",
    "elif p1counter == \"O\":\n",
    "    mybool=True\n",
    "elif p1counter == \"0\":\n",
    "    mybool=True\n",
    "else:\n",
    "    mybool=False\n",
    "\n",
    "if mybool==False:\n",
    "    print(\"Please input the correct counter type(input either x, X, o, O or 0)\")\n",
    "else:\n",
    "\n",
    "#Outdated Draft"
   ]
  },
  {
   "cell_type": "code",
   "execution_count": 17,
   "metadata": {},
   "outputs": [
    {
     "name": "stdout",
     "output_type": "stream",
     "text": [
      "Player 1's name is john! and player 2's name is Joan!\n",
      "john's counter is O!\n",
      "Please input the correct counter type for Joan(input either X, or O)\n",
      "Please input the correct counter type for Joan(input either X, or O)\n",
      "Please input the correct counter type for Joan(input either X, or O)\n",
      "Joan's counter is X!\n"
     ]
    }
   ],
   "source": [
    "#Stating player names and their counters\n",
    "#Outdated Draft\n",
    "mybool=True\n",
    "p1,p1counter=input(),input()\n",
    "p2,p2counter=input(),input()\n",
    "print(f\"Player 1's name is {p1}! and player 2's name is {p2}!\")\n",
    "count = 0\n",
    "count2 = 0\n",
    "\n",
    "def counter_verification(p1counter):\n",
    "    if p1counter == \"X\":\n",
    "        return True\n",
    "    elif p1counter == \"O\":\n",
    "        return True\n",
    "    else:\n",
    "        return False\n",
    "if counter_verification(p1counter) == False:\n",
    "    while mybool==True:\n",
    "        print(f\"Please input the correct counter type for {p1}(input either X, or O)\")\n",
    "        p1counter=input()\n",
    "        if counter_verification(p1counter) == True:\n",
    "            mybool=False\n",
    "        count+=1\n",
    "        if count == 25:\n",
    "            print(\"try again\")\n",
    "            break\n",
    "if p1counter==\"O\":\n",
    "    def counter_verification(p1counter):\n",
    "        if p1counter == \"X\":\n",
    "            return True\n",
    "        else:\n",
    "            return False\n",
    "    print(f\"{p1}'s counter is O!\")\n",
    "else:\n",
    "    def counter_verification(p1counter):\n",
    "        if p1counter == \"O\":\n",
    "            return True\n",
    "        else:\n",
    "            return False\n",
    "    print(f\"{p1}'s counter is X!\")\n",
    "mybool=True\n",
    "if counter_verification(p2counter) == False:\n",
    "    while mybool==True:\n",
    "        print(f\"Please input the correct counter type for {p2}(input either X, or O)\")\n",
    "        p2counter=input()\n",
    "        if counter_verification(p2counter) == True:\n",
    "            mybool=False\n",
    "        count2+=1\n",
    "        if count2 == 25:\n",
    "            print(\"try again\")\n",
    "            break\n",
    "if p2counter==\"O\":\n",
    "    print(f\"{p2}'s counter is O!\")\n",
    "else:\n",
    "    print(f\"{p2}'s counter is X!\")\n",
    "#Outdated Draft"
   ]
  },
  {
   "cell_type": "code",
   "execution_count": 26,
   "metadata": {},
   "outputs": [
    {
     "name": "stdout",
     "output_type": "stream",
     "text": [
      "Player 1's name is Jamie! and player 2's name is Jan!\n",
      "Please input the correct counter type for Jamie(input either X, or O)\n",
      "Jamie's counter is O!\n",
      "Jan's counter is X!\n"
     ]
    }
   ],
   "source": [
    "#Stating player names and their counters\n",
    "mybool=True\n",
    "p1,p1counter=input(),input()\n",
    "p2=input()\n",
    "print(f\"Player 1's name is {p1}! and player 2's name is {p2}!\")\n",
    "count = 0\n",
    "\n",
    "def counter_verification(p1counter):\n",
    "    if p1counter == \"X\":\n",
    "        return True\n",
    "    elif p1counter == \"O\":\n",
    "        return True\n",
    "    else:\n",
    "        return False\n",
    "if counter_verification(p1counter) == False:\n",
    "    while mybool==True:\n",
    "        print(f\"Please input the correct counter type for {p1}(input either X, or O)\")\n",
    "        p1counter=input()\n",
    "        if counter_verification(p1counter) == True:\n",
    "            mybool=False\n",
    "        count+=1\n",
    "        if count == 25:\n",
    "            print(\"try again\")\n",
    "            break\n",
    "if p1counter==\"O\":\n",
    "    def counter_verification(p1counter):\n",
    "        if p1counter == \"X\":\n",
    "            p2counter=\"O\"\n",
    "    print(f\"{p1}'s counter is O!\")\n",
    "    print(f\"{p2}'s counter is X!\")\n",
    "else:\n",
    "    def counter_verification(p1counter):\n",
    "        if p1counter == \"O\":\n",
    "            p2counter=\"X\"\n",
    "    print(f\"{p1}'s counter is X!\")\n",
    "    print(f\"{p2}'s counter is O!\")"
   ]
  },
  {
   "cell_type": "code",
   "execution_count": 106,
   "metadata": {},
   "outputs": [
    {
     "name": "stdout",
     "output_type": "stream",
     "text": [
      "?|?|?\n",
      "-----\n",
      "?|?|?\n",
      "-----\n",
      "?|?|?\n",
      "?|?|?\n",
      "-----\n",
      "?|?|?\n",
      "-----\n",
      "?|?|O\n"
     ]
    }
   ],
   "source": [
    "#Board\n",
    "square1=\"?\"\n",
    "square2=\"?\"\n",
    "square3=\"?\"\n",
    "square4=\"?\"\n",
    "square5=\"?\"\n",
    "square6=\"?\"\n",
    "square7=\"?\"\n",
    "square8=\"?\"\n",
    "square9=\"?\"\n",
    "def board():\n",
    "    row1=print(f\"{square1}|{square2}|{square3}\")\n",
    "    print(\"-----\")\n",
    "    row2=print(f\"{square4}|{square5}|{square6}\")\n",
    "    print(\"-----\")\n",
    "    row3=print(f\"{square7}|{square8}|{square9}\")\n",
    "board()\n",
    "square9=\"O\"\n",
    "board()"
   ]
  },
  {
   "cell_type": "code",
   "execution_count": 88,
   "metadata": {},
   "outputs": [],
   "source": [
    "count1=0\n",
    "count2=0\n",
    "count3=0\n",
    "count4=0\n",
    "count5=0\n",
    "count6=0\n",
    "count7=0\n",
    "count8=0\n",
    "count9=0"
   ]
  },
  {
   "cell_type": "code",
   "execution_count": 89,
   "metadata": {},
   "outputs": [
    {
     "name": "stdout",
     "output_type": "stream",
     "text": [
      "?|?|?\n",
      "-----\n",
      "?|?|?\n",
      "-----\n",
      "?|?|?\n"
     ]
    },
    {
     "ename": "TypeError",
     "evalue": "player() takes 0 positional arguments but 1 was given",
     "output_type": "error",
     "traceback": [
      "\u001b[0;31m---------------------------------------------------------------------------\u001b[0m",
      "\u001b[0;31mTypeError\u001b[0m                                 Traceback (most recent call last)",
      "\u001b[1;32m/Users/arantumu/Downloads/Tic Tac Toe Milestone.ipynb Cell 6\u001b[0m in \u001b[0;36m<cell line: 40>\u001b[0;34m()\u001b[0m\n\u001b[1;32m     <a href='vscode-notebook-cell:/Users/arantumu/Downloads/Tic%20Tac%20Toe%20Milestone.ipynb#X26sZmlsZQ%3D%3D?line=39'>40</a>\u001b[0m \u001b[39mwhile\u001b[39;00m mybool1:\n\u001b[1;32m     <a href='vscode-notebook-cell:/Users/arantumu/Downloads/Tic%20Tac%20Toe%20Milestone.ipynb#X26sZmlsZQ%3D%3D?line=40'>41</a>\u001b[0m     count\u001b[39m+\u001b[39m\u001b[39m=\u001b[39m\u001b[39m1\u001b[39m\n\u001b[0;32m---> <a href='vscode-notebook-cell:/Users/arantumu/Downloads/Tic%20Tac%20Toe%20Milestone.ipynb#X26sZmlsZQ%3D%3D?line=41'>42</a>\u001b[0m     \u001b[39mprint\u001b[39m(\u001b[39mf\u001b[39m\u001b[39m\"\u001b[39m\u001b[39mTurn \u001b[39m\u001b[39m{\u001b[39;00mcount1\u001b[39m}\u001b[39;00m\u001b[39m, \u001b[39m\u001b[39m{\u001b[39;00mplayer(count1)\u001b[39m}\u001b[39;00m\u001b[39m'\u001b[39m\u001b[39ms turn\u001b[39m\u001b[39m\"\u001b[39m)\n\u001b[1;32m     <a href='vscode-notebook-cell:/Users/arantumu/Downloads/Tic%20Tac%20Toe%20Milestone.ipynb#X26sZmlsZQ%3D%3D?line=42'>43</a>\u001b[0m     turn_verification(\u001b[39minput\u001b[39m())\n\u001b[1;32m     <a href='vscode-notebook-cell:/Users/arantumu/Downloads/Tic%20Tac%20Toe%20Milestone.ipynb#X26sZmlsZQ%3D%3D?line=43'>44</a>\u001b[0m     board\n",
      "\u001b[0;31mTypeError\u001b[0m: player() takes 0 positional arguments but 1 was given"
     ]
    }
   ],
   "source": [
    "#Actual Game \n",
    "#Input square(1-9),ex; square7\n",
    "board()\n",
    "def turn_verification(x,y,s1,s2,s3,s4,s5,s6,s7,s8,s9,a,b,c,d,e,f,g,h,i):\n",
    "    if x==1:\n",
    "        s1=y\n",
    "        a+=1\n",
    "    elif x==2:\n",
    "        s2=y\n",
    "        b+=1\n",
    "    elif x==3:\n",
    "        s3=y\n",
    "        c+=1\n",
    "    elif x==4:\n",
    "        s4=y\n",
    "        d+=1\n",
    "    elif x==5:\n",
    "        s5=y\n",
    "        e+=1\n",
    "    elif x==6:\n",
    "        s6=y\n",
    "        f+=1\n",
    "    elif x==7:\n",
    "        s7=y\n",
    "        g+=1\n",
    "    elif x==8:\n",
    "        s8=y\n",
    "        h+=1\n",
    "    elif x==9:\n",
    "        s9=y\n",
    "        i+=1\n",
    "    else:\n",
    "        return False\n",
    "mybool1 = True\n",
    "def player():\n",
    "    if count1%2 == 1:\n",
    "        print(p1)\n",
    "    if count1%2 == 0:\n",
    "        print(p2)\n",
    "while mybool1:\n",
    "    count+=1\n",
    "    print(f\"Turn {count1}, {player(count1)}'s turn\")\n",
    "    turn_verification(input())\n",
    "    board    "
   ]
  },
  {
   "cell_type": "code",
   "execution_count": 105,
   "metadata": {},
   "outputs": [
    {
     "name": "stdout",
     "output_type": "stream",
     "text": [
      "True\n",
      "?|?|?\n",
      "-----\n",
      "?|?|?\n",
      "-----\n",
      "?|?|?\n",
      "0\n"
     ]
    }
   ],
   "source": [
    "def turn_verification(x,y,s1,s2,s3,s4,s5,s6,s7,s8,s9,a,b,c,d,e,f,g,h,i):\n",
    "    if x==1:\n",
    "        s1=y\n",
    "        a+=1\n",
    "        if a > 1:\n",
    "            return False\n",
    "        else:\n",
    "            return True\n",
    "    elif x==2:\n",
    "        s2=y\n",
    "        b+=1\n",
    "        if b > 1:\n",
    "            return False\n",
    "        else:\n",
    "            return True\n",
    "    elif x==3:\n",
    "        s3=y\n",
    "        c+=1\n",
    "        if c > 1:\n",
    "            return False\n",
    "        else:\n",
    "            return True\n",
    "    elif x==4:\n",
    "        s4=y\n",
    "        d+=1\n",
    "        if d > 1:\n",
    "            return False\n",
    "        else:\n",
    "            return True\n",
    "    elif x==5:\n",
    "        s5=y\n",
    "        e+=1\n",
    "        if e > 1:\n",
    "            return False\n",
    "        else:\n",
    "            return True\n",
    "    elif x==6:\n",
    "        s6=y\n",
    "        f+=1\n",
    "        if f > 1:\n",
    "            return False\n",
    "        else:\n",
    "            return True\n",
    "    elif x==7:\n",
    "        s7=y\n",
    "        g+=1\n",
    "        if g > 1:\n",
    "            return False\n",
    "        else:\n",
    "            return True\n",
    "    elif x==8:\n",
    "        s8=y\n",
    "        h+=1\n",
    "        if h > 1:\n",
    "            return False\n",
    "        else:\n",
    "            return True\n",
    "    elif x==9:\n",
    "        s9=y\n",
    "        i+=1\n",
    "        if i > 1:\n",
    "            return False\n",
    "        else:\n",
    "            return True\n",
    "    else:\n",
    "        return False\n",
    "print(turn_verification(5,p1counter,square1,square2,square3,square4,square5,square6,square7,square8,square9,count1,count2,count3,count4,count5,count6,count7,count8,count9)) #this is so stupid(the order was wrong)\n",
    "board()\n",
    "print(count9)"
   ]
  },
  {
   "cell_type": "code",
   "execution_count": null,
   "metadata": {},
   "outputs": [],
   "source": []
  },
  {
   "cell_type": "code",
   "execution_count": 101,
   "metadata": {},
   "outputs": [
    {
     "ename": "IndentationError",
     "evalue": "unexpected indent (3066261091.py, line 2)",
     "output_type": "error",
     "traceback": [
      "\u001b[0;36m  Input \u001b[0;32mIn [101]\u001b[0;36m\u001b[0m\n\u001b[0;31m    if x==1:\u001b[0m\n\u001b[0m    ^\u001b[0m\n\u001b[0;31mIndentationError\u001b[0m\u001b[0;31m:\u001b[0m unexpected indent\n"
     ]
    }
   ],
   "source": [
    "mybool=None\n",
    "    if x==1:\n",
    "        p1counter=square1\n",
    "        square1+=1\n",
    "        if square1>1:\n",
    "            print(\"try again\")\n",
    "            mybool=True\n",
    "            while mybool:\n",
    "                x=input()\n",
    "                if 9>=x>1:\n",
    "                    mybool=None\n",
    "                if x == 1:\n",
    "                    None"
   ]
  },
  {
   "cell_type": "code",
   "execution_count": 65,
   "metadata": {},
   "outputs": [
    {
     "data": {
      "text/plain": [
       "'O'"
      ]
     },
     "execution_count": 65,
     "metadata": {},
     "output_type": "execute_result"
    }
   ],
   "source": [
    "p1counter"
   ]
  }
 ],
 "metadata": {
  "kernelspec": {
   "display_name": "Python 3.9.12 ('base')",
   "language": "python",
   "name": "python3"
  },
  "language_info": {
   "codemirror_mode": {
    "name": "ipython",
    "version": 3
   },
   "file_extension": ".py",
   "mimetype": "text/x-python",
   "name": "python",
   "nbconvert_exporter": "python",
   "pygments_lexer": "ipython3",
   "version": "3.9.12"
  },
  "orig_nbformat": 4,
  "vscode": {
   "interpreter": {
    "hash": "94b41d9f105d593debba82d128ab8e9de06f140a658c9faac2a806c57dfae90a"
   }
  }
 },
 "nbformat": 4,
 "nbformat_minor": 2
}
