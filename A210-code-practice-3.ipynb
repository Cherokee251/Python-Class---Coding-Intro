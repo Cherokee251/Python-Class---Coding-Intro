{
 "cells": [
  {
   "cell_type": "markdown",
   "metadata": {},
   "source": [
    "# A2.10 - Code Practice III\n",
    ">\n",
    "> If Statements\n",
    ">"
   ]
  },
  {
   "cell_type": "code",
   "execution_count": 4,
   "metadata": {},
   "outputs": [],
   "source": [
    "# Create an if statement with at least:\n",
    "# 1. declare a variable\n",
    "# 2. if statement\n",
    "# 3. elif statement\n",
    "# 4. else statement"
   ]
  },
  {
   "cell_type": "code",
   "execution_count": 5,
   "metadata": {},
   "outputs": [],
   "source": [
    "# Practice Below and Create at Least 4 if statments"
   ]
  },
  {
   "cell_type": "code",
   "execution_count": 12,
   "metadata": {},
   "outputs": [
    {
     "name": "stdout",
     "output_type": "stream",
     "text": [
      "1154.5465367965369\n"
     ]
    }
   ],
   "source": [
    "\n",
    "myvar1=1152\n",
    "myvar2=2353\n",
    "myvar3=924\n",
    "myvar4=True\n",
    "\n",
    "if myvar4:\n",
    "    print(myvar1+myvar2/myvar3)\n",
    "else:\n",
    "    print(\"That's all folks!\")\n"
   ]
  },
  {
   "cell_type": "code",
   "execution_count": 50,
   "metadata": {},
   "outputs": [
    {
     "name": "stdout",
     "output_type": "stream",
     "text": [
      "Greetings!, How have you been!\n",
      "That's amazing!, wait what? Aww, thats too bad\n"
     ]
    }
   ],
   "source": [
    "dict1={\"key1\":\"Hi\", \"key2\":\"Hello There!\", \"key3\":\"Greetings!\"}\n",
    "dict2={\"key4\":\"How are you!\", \"key5\":\"How have you been!\", \"key6\":\"I have so much to tell you!\"}\n",
    "dict3={\"key7\":\"You have something to tell me?\"}\n",
    "dict4={\"key8\":\"Aww, thats too bad\", \"key9\":\"That's amazing!\", \"key10\":\"Get away from me you you disgusting rat!\"}\n",
    "myvar=5\n",
    "if myvar == 4:\n",
    "    print(dict1[\"key2\"] + \", \" + dict2[\"key6\"])\n",
    "elif myvar > 3.72:\n",
    "    print(dict1[\"key3\"] + \", \" + dict2[\"key5\"])\n",
    "else: \n",
    "    print(\"*ignored*\")\n",
    "\n",
    "if myvar == 5.1:\n",
    "    print(dict3[\"key7\"] + \" \" + dict4[\"key10\"])\n",
    "elif myvar == 25**0.5:\n",
    "    print(dict4[\"key9\"] + \", wait what? \" + dict4[\"key8\"])\n",
    "else:\n",
    "    print(dict3[\"key7\"] + \", oh, ok well nice seeing you!\")"
   ]
  },
  {
   "cell_type": "code",
   "execution_count": 57,
   "metadata": {},
   "outputs": [
    {
     "name": "stdout",
     "output_type": "stream",
     "text": [
      "Can you come here, please?\n"
     ]
    }
   ],
   "source": [
    "string1 = \"Can you {}, please?\"\n",
    "mybool=True\n",
    "if mybool:\n",
    "    print(string1.format(\"come here\")) \n",
    "else:\n",
    "    print(string1.format(\"leave\"))"
   ]
  }
 ],
 "metadata": {
  "kernelspec": {
   "display_name": "Python 3.9.12",
   "language": "python",
   "name": "python3"
  },
  "language_info": {
   "codemirror_mode": {
    "name": "ipython",
    "version": 3
   },
   "file_extension": ".py",
   "mimetype": "text/x-python",
   "name": "python",
   "nbconvert_exporter": "python",
   "pygments_lexer": "ipython3",
   "version": "3.9.12"
  },
  "orig_nbformat": 4,
  "vscode": {
   "interpreter": {
    "hash": "40d3a090f54c6569ab1632332b64b2c03c39dcf918b08424e98f38b5ae0af88f"
   }
  }
 },
 "nbformat": 4,
 "nbformat_minor": 2
}
