{
 "cells": [
  {
   "cell_type": "markdown",
   "metadata": {},
   "source": [
    "# Quiz Review\n",
    ">\n",
    ">Data Types, Numbers, Strings, Lists, Dictionaries, and Booleans\n",
    ">"
   ]
  },
  {
   "cell_type": "markdown",
   "metadata": {},
   "source": [
    "## Data Types\n",
    "> What function can you use to find the type of an object?"
   ]
  },
  {
   "cell_type": "code",
   "execution_count": 54,
   "metadata": {},
   "outputs": [
    {
     "data": {
      "text/plain": [
       "float"
      ]
     },
     "execution_count": 54,
     "metadata": {},
     "output_type": "execute_result"
    }
   ],
   "source": [
    "## Write code here\n",
    "type(5.2)"
   ]
  },
  {
   "cell_type": "markdown",
   "metadata": {},
   "source": [
    "## Numbers\n",
    "> Create the following:"
   ]
  },
  {
   "cell_type": "code",
   "execution_count": 62,
   "metadata": {},
   "outputs": [
    {
     "name": "stdout",
     "output_type": "stream",
     "text": [
      "5.0\n",
      "3\n",
      "50\n"
     ]
    },
    {
     "data": {
      "text/plain": [
       "1.8599999999999999"
      ]
     },
     "execution_count": 62,
     "metadata": {},
     "output_type": "execute_result"
    }
   ],
   "source": [
    "# Create a variable 'numVar' to hold a number\n",
    "numVar=5\n",
    "# Create a variable 'fltVar' to hold a float\n",
    "fltVar=3.2\n",
    "# Change numVar to a float\n",
    "print(float(numVar))\n",
    "# Change fltVar to a number\n",
    "print(int(fltVar))\n",
    "# Multiply numVar by 10\n",
    "print(numVar*10)\n",
    "# Return the remainder of numVar divided by 3.14\n",
    "numVar % 3.14"
   ]
  },
  {
   "cell_type": "markdown",
   "metadata": {},
   "source": [
    "## Strings\n",
    "> Create the following:"
   ]
  },
  {
   "cell_type": "code",
   "execution_count": 55,
   "metadata": {},
   "outputs": [
    {
     "name": "stdout",
     "output_type": "stream",
     "text": [
      "['I', \"didn't\", 'do', 'that!?']\n",
      "['I didn', 't do that!?']\n"
     ]
    }
   ],
   "source": [
    "# Create a variable 'strVar' to hold a string that contains an apostrophe and spaces\n",
    "strVar=\"I didn't do that!?\"\n",
    "# Split this variable on the spaces\n",
    "print(strVar.split( ))\n",
    "# Split this variable on the apostrophe\n",
    "print(strVar.split(\"'\"))"
   ]
  },
  {
   "cell_type": "markdown",
   "metadata": {},
   "source": [
    "## Lists\n",
    "> Create the following:"
   ]
  },
  {
   "cell_type": "code",
   "execution_count": 61,
   "metadata": {},
   "outputs": [
    {
     "name": "stdout",
     "output_type": "stream",
     "text": [
      "[8, 9, 10]\n"
     ]
    },
    {
     "data": {
      "text/plain": [
       "[10, 9, 8]"
      ]
     },
     "execution_count": 61,
     "metadata": {},
     "output_type": "execute_result"
    }
   ],
   "source": [
    "# Create a variable 'lstVar' to hold an empty list\n",
    "lstVar=[]\n",
    "# Append to this list three number type objects\n",
    "lstVar.append(8)\n",
    "lstVar.append(9)\n",
    "lstVar.append(10)\n",
    "print(lstVar)\n",
    "# Create a variable revlstVar to hold lstVar in reverse\n",
    "lstVar.reverse()\n",
    "revlstVar=lstVar\n",
    "revlstVar"
   ]
  },
  {
   "cell_type": "markdown",
   "metadata": {},
   "source": [
    "## Dictionaries\n",
    "> Create the following:"
   ]
  },
  {
   "cell_type": "code",
   "execution_count": 60,
   "metadata": {},
   "outputs": [
    {
     "data": {
      "text/plain": [
       "\"I DIDN'T DO THAT!?\""
      ]
     },
     "execution_count": 60,
     "metadata": {},
     "output_type": "execute_result"
    }
   ],
   "source": [
    "# Create a variable 'dctVar' to hold an empty dictionary\n",
    "dctVar={}\n",
    "# Add each variable created above and set them each to their own keys\n",
    "dctVar={\"Key1\":numVar,\"Key2\":fltVar,\"Key3\":strVar,\"Key4\":lstVar,\"Key5\":revlstVar}\n",
    "# Call the 'strVar' from inside the dictionary and call the Upper method on it\n",
    "dctVar[\"Key3\"].upper()"
   ]
  }
 ],
 "metadata": {
  "kernelspec": {
   "display_name": "Python 3.9.12",
   "language": "python",
   "name": "python3"
  },
  "language_info": {
   "codemirror_mode": {
    "name": "ipython",
    "version": 3
   },
   "file_extension": ".py",
   "mimetype": "text/x-python",
   "name": "python",
   "nbconvert_exporter": "python",
   "pygments_lexer": "ipython3",
   "version": "3.9.12"
  },
  "orig_nbformat": 4,
  "vscode": {
   "interpreter": {
    "hash": "40d3a090f54c6569ab1632332b64b2c03c39dcf918b08424e98f38b5ae0af88f"
   }
  }
 },
 "nbformat": 4,
 "nbformat_minor": 2
}
