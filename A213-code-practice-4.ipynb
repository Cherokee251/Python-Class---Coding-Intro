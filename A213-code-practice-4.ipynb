{
 "cells": [
  {
   "cell_type": "markdown",
   "metadata": {},
   "source": [
    "# A2.13 - Code Practice IV\n",
    ">\n",
    "> Review: `if` Statements\n",
    ">\n",
    "> Review: `for` Loops\n",
    ">\n",
    "> Review: `while` Loops"
   ]
  },
  {
   "cell_type": "code",
   "execution_count": 5,
   "metadata": {},
   "outputs": [
    {
     "name": "stdout",
     "output_type": "stream",
     "text": [
      "183\n",
      "this number is odd\n"
     ]
    }
   ],
   "source": [
    "# Use `if` statement to find even and odd numbers\n",
    "import random\n",
    "num=random.randint(1,200)\n",
    "print(num)\n",
    "if num % 2 == 0:\n",
    "    print(\"this number is even\")\n",
    "elif num % 2 == 1:\n",
    "    print(\"this number is odd\")"
   ]
  },
  {
   "cell_type": "code",
   "execution_count": 6,
   "metadata": {},
   "outputs": [
    {
     "name": "stdout",
     "output_type": "stream",
     "text": [
      "Johnson is the correct name!\n"
     ]
    }
   ],
   "source": [
    "# Use `for` loop and `if` statement to find the correct name from a list of names\n",
    "mylst=[\"Jan\",\"James\",\"Johnson\",\"Jim\"]\n",
    "for x in mylst:\n",
    "    if x == \"Johnson\":\n",
    "        print(\"Johnson is the correct name!\")\n",
    "    else:\n",
    "        pass"
   ]
  },
  {
   "cell_type": "code",
   "execution_count": 7,
   "metadata": {},
   "outputs": [
    {
     "name": "stdout",
     "output_type": "stream",
     "text": [
      "nay...\n",
      "Yay!\n",
      "nay...\n",
      "nay...\n"
     ]
    }
   ],
   "source": [
    "# Use `for` loop and `if` statement to find the correct length of name from a \\\n",
    "# list of names\n",
    "for x in mylst:\n",
    "    if len(x) == 5:\n",
    "        print(\"Yay!\")\n",
    "    else:\n",
    "        print(\"nay...\")"
   ]
  },
  {
   "cell_type": "code",
   "execution_count": 11,
   "metadata": {},
   "outputs": [
    {
     "name": "stdout",
     "output_type": "stream",
     "text": [
      "Fall is Fancy!\n",
      "Fall is Fancy!\n",
      "Fall is Fancy!\n",
      "Fall is Fancy!\n",
      "Fall is Fancy!\n",
      "Fall is Fancy!\n",
      "Fall is Fancy!\n",
      "Fall is Fancy!\n",
      "Fall is Fancy!\n",
      "Fall is Fancy!\n"
     ]
    }
   ],
   "source": [
    "# Use `for` loop to print a statement 10 times\n",
    "mystr=\"Fall is Fancy!\"\n",
    "for x in range(10):\n",
    "    print(mystr)"
   ]
  },
  {
   "cell_type": "code",
   "execution_count": 18,
   "metadata": {},
   "outputs": [
    {
     "name": "stdout",
     "output_type": "stream",
     "text": [
      "dict_values([123, 456, 789, ['Jan', 'James', 'Johnson', 'Jim']])\n"
     ]
    }
   ],
   "source": [
    "# Use `for` loop to print the values of a dictionary\n",
    "# The dictionary should be at least 3 key-value pairs\n",
    "mydct={\"key1\":123,\"key2\":456,\"key3\":789,\"key4\":mylst}\n",
    "for x in range(1):\n",
    "    print(mydct.values())"
   ]
  },
  {
   "cell_type": "code",
   "execution_count": 41,
   "metadata": {},
   "outputs": [
    {
     "name": "stdout",
     "output_type": "stream",
     "text": [
      "['Jan', 'James', 'Jim']\n"
     ]
    }
   ],
   "source": [
    "# Use `while` loop that asks for user input three times and then prints it out\n",
    "count=0\n",
    "lst=[]\n",
    "mybool=True\n",
    "while mybool:\n",
    "    lst.append(input())\n",
    "    count+=1\n",
    "    if count == 3:\n",
    "        mybool=False\n",
    "if mybool == False: \n",
    "    print(lst)"
   ]
  }
 ],
 "metadata": {
  "kernelspec": {
   "display_name": "Python 3.9.12",
   "language": "python",
   "name": "python3"
  },
  "language_info": {
   "codemirror_mode": {
    "name": "ipython",
    "version": 3
   },
   "file_extension": ".py",
   "mimetype": "text/x-python",
   "name": "python",
   "nbconvert_exporter": "python",
   "pygments_lexer": "ipython3",
   "version": "3.9.12"
  },
  "orig_nbformat": 4,
  "vscode": {
   "interpreter": {
    "hash": "40d3a090f54c6569ab1632332b64b2c03c39dcf918b08424e98f38b5ae0af88f"
   }
  }
 },
 "nbformat": 4,
 "nbformat_minor": 2
}
