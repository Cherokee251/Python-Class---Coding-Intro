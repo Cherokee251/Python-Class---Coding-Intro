{
 "cells": [
  {
   "cell_type": "markdown",
   "metadata": {},
   "source": [
    "# 08 - While Loops\n",
    "> From W3Schools:\n",
    ">\n",
    "> \"With the `while` loop we can execute a set of statements as long as a condition is true.\""
   ]
  },
  {
   "cell_type": "markdown",
   "metadata": {},
   "source": [
    "### Video and Notes:\n",
    "> Video: https://www.youtube.com/watch?v=dHANJ4l6fwA\n",
    ">\n",
    "> Notes: https://www.w3schools.com/python/python_while_loops.asp"
   ]
  },
  {
   "cell_type": "markdown",
   "metadata": {},
   "source": [
    "## To Complete Your Notes:\n",
    "1. Watch the video.\n",
    "2. Review the Notes above.\n",
    "3. Copy the `while` loops from W3Schools below\n",
    "4. Create your own `while` loops below"
   ]
  },
  {
   "cell_type": "markdown",
   "metadata": {},
   "source": [
    "### 3. Copy the `while` loops from W3Schools below"
   ]
  },
  {
   "cell_type": "code",
   "execution_count": null,
   "metadata": {},
   "outputs": [],
   "source": [
    "# Example 1\n",
    "\n",
    "somebool = True\n",
    "\n",
    "while somebool:\n",
    "    print(\"In this loop, yo\")\n",
    "    somebool = False\n",
    "print(\"Out of the loop, again\")"
   ]
  },
  {
   "cell_type": "code",
   "execution_count": null,
   "metadata": {},
   "outputs": [
    {
     "name": "stdout",
     "output_type": "stream",
     "text": [
      "1\n",
      "2\n",
      "3\n",
      "4\n",
      "5\n"
     ]
    }
   ],
   "source": [
    "# The `while` loop\n",
    "i = 1\n",
    "while i < 6:\n",
    "  print(i)\n",
    "  i += 1"
   ]
  },
  {
   "cell_type": "code",
   "execution_count": null,
   "metadata": {},
   "outputs": [
    {
     "name": "stdout",
     "output_type": "stream",
     "text": [
      "1\n",
      "2\n",
      "3\n"
     ]
    }
   ],
   "source": [
    "# The `break` statement\n",
    "i = 1\n",
    "while i < 6:\n",
    "  print(i)\n",
    "  if i == 3:\n",
    "    break\n",
    "  i += 1"
   ]
  },
  {
   "cell_type": "code",
   "execution_count": null,
   "metadata": {},
   "outputs": [
    {
     "name": "stdout",
     "output_type": "stream",
     "text": [
      "1\n",
      "2\n",
      "4\n",
      "5\n",
      "6\n"
     ]
    }
   ],
   "source": [
    "# The `continue` statement\n",
    "i = 0\n",
    "while i < 6:\n",
    "  i += 1 \n",
    "  if i == 3:\n",
    "    continue\n",
    "  print(i)"
   ]
  },
  {
   "cell_type": "code",
   "execution_count": null,
   "metadata": {},
   "outputs": [
    {
     "name": "stdout",
     "output_type": "stream",
     "text": [
      "1\n",
      "2\n",
      "3\n",
      "4\n",
      "5\n",
      "i is no longer less than 6\n"
     ]
    }
   ],
   "source": [
    "# The `else` statement\n",
    "i = 1\n",
    "while i < 6:\n",
    "  print(i)\n",
    "  i += 1\n",
    "else:\n",
    "  print(\"i is no longer less than 6\")"
   ]
  },
  {
   "cell_type": "markdown",
   "metadata": {},
   "source": [
    "### 4. Create your own `while` loops below.\n",
    "> Please create your own `while` loops.\n",
    ">\n",
    "> Please create at least three different `while` loops.\n",
    ">\n",
    "> Try and use different techniques from this lesson and the lessons before."
   ]
  },
  {
   "cell_type": "code",
   "execution_count": 2,
   "metadata": {},
   "outputs": [
    {
     "name": "stdout",
     "output_type": "stream",
     "text": [
      "j\\\n",
      " \n",
      " \n",
      " \n"
     ]
    }
   ],
   "source": [
    "# Example Loop\n",
    "count = 0\n",
    "mybool = True\n",
    "secrets = {}\n",
    "\n",
    "while mybool:\n",
    "    secrets[count] = input(\"Tell me a secret: \")\n",
    "    count += 1\n",
    "    if count > 3:\n",
    "       mybool = False\n",
    "\n",
    "for key in secrets:\n",
    "    print(secrets[key])"
   ]
  },
  {
   "cell_type": "code",
   "execution_count": 26,
   "metadata": {},
   "outputs": [
    {
     "name": "stdout",
     "output_type": "stream",
     "text": [
      "1\n",
      "2\n",
      "3\n",
      "4\n",
      "5\n",
      "1.0283918194160655\n",
      "1.0153185676862655\n",
      "1.0081558981184175\n",
      "1.0043006757288733\n",
      "1.0022511482929128\n"
     ]
    }
   ],
   "source": [
    "# First Loop\n",
    "for x in range(1,11):\n",
    "    if x <= 5:\n",
    "        print(x)\n",
    "    if x > 5:\n",
    "        mybool=True\n",
    "        while mybool:\n",
    "            print(x**(0.5**x))\n",
    "            mybool=False "
   ]
  },
  {
   "cell_type": "code",
   "execution_count": 31,
   "metadata": {},
   "outputs": [
    {
     "name": "stdout",
     "output_type": "stream",
     "text": [
      "[465, 701, 168]\n",
      "1334\n",
      "2668\n",
      "3560446\n",
      "4749636298\n",
      "6336014822866\n",
      "8452243773704578\n",
      "11275293194121908386\n",
      "15041241120958625788258\n",
      "20065015655358806801537506\n",
      "26766730884248648273251034338\n",
      "35706818999587696796516879808226\n",
      "47632896545449987526553517664174818\n",
      "63542283991630283360422392564009208546\n",
      "84765406844834798002803471680388284201698\n",
      "113077052731009620535739831221637971125066466\n",
      "150844788343166833794676934849665053480838666978\n",
      "201226947649784556282099031089453181343438781749986\n",
      "268436748164812598080320107473330543912147334854482658\n",
      "358094622051860005839147023369422945578804544695879867106\n",
      "477698225817181247789422129174810209402125262624303742720738\n",
      "637249433240119784551089120319196819342435100340821192789465826\n",
      "850090743942319792591152886505808557002808423854655471181147413218\n",
      "1134021052419054603316597950598748615041746437422110398555650649234146\n",
      "1512784083927018840824341666098730652465689747521095271673237966078352098\n",
      "2018053967958643133659671782575706690389230123193141092412099446748521700066\n",
      "2692083993256829940302002157955992724979232984339650217277740661962527947889378\n"
     ]
    }
   ],
   "source": [
    "# Second Loop\n",
    "count=0\n",
    "mybool=True\n",
    "mybool2=True\n",
    "x = 1\n",
    "import random\n",
    "mylist = [random.randint(1,483),random.randint(1,768),random.randint(75,251)]\n",
    "print(mylist)\n",
    "while mybool:\n",
    "    myval1=mylist[0]+mylist[1]+mylist[2]\n",
    "    print(myval1)\n",
    "    mybool=False\n",
    "\n",
    "if 77 <= myval1 <= 999:\n",
    "    print(myval1*3/2)\n",
    "if myval1 < 10000:\n",
    "    while mybool2:\n",
    "        x+=1\n",
    "        x *= (myval1)\n",
    "        print(x)\n",
    "        count+=1\n",
    "        if count == 25:\n",
    "            mybool2=False"
   ]
  },
  {
   "cell_type": "code",
   "execution_count": 29,
   "metadata": {},
   "outputs": [
    {
     "name": "stdout",
     "output_type": "stream",
     "text": [
      "12\n",
      "87\n",
      "215671155821681003462656\n",
      "246990403565262140303521\n",
      "282429536481000000000000\n",
      "322475487413604782665681\n",
      "367666387654882241806336\n"
     ]
    }
   ],
   "source": [
    "# Third Loop\n",
    "#Type a sentence (\"Hello World!\" was used)\n",
    "import random\n",
    "Myvar=input()\n",
    "myvar1=len(Myvar)\n",
    "print(myvar1)\n",
    "count=0\n",
    "mybool=True\n",
    "myvar2=random.randint(2,100)\n",
    "print(myvar2)\n",
    "\n",
    "while mybool:\n",
    "    myvar2=myvar2 + 1\n",
    "    myvar3=myvar2**myvar1\n",
    "    print(myvar3)\n",
    "    count+=1\n",
    "    if count == 5:\n",
    "        mybool=False"
   ]
  },
  {
   "cell_type": "code",
   "execution_count": 8,
   "metadata": {},
   "outputs": [
    {
     "name": "stdout",
     "output_type": "stream",
     "text": [
      "Val is 5, Count = 0\n"
     ]
    }
   ],
   "source": [
    "\"\"\"For extra credit: try and create a `while` loop that uses the Random module\n",
    "to generate random numbers within a range of integers and breaks away when a certain\n",
    "integer is returned. Then print out the number of loops that occurred.\"\"\"\n",
    "\n",
    "from cmath import pi\n",
    "import random\n",
    "count = 0\n",
    "\n",
    "while True:\n",
    "    val = random.randint(1,10)\n",
    "    if val ==5:\n",
    "        print(f\"Val is {val}, Count = {count}\")\n",
    "        break\n",
    "    count += 1"
   ]
  }
 ],
 "metadata": {
  "kernelspec": {
   "display_name": "Python 3.9.12",
   "language": "python",
   "name": "python3"
  },
  "language_info": {
   "codemirror_mode": {
    "name": "ipython",
    "version": 3
   },
   "file_extension": ".py",
   "mimetype": "text/x-python",
   "name": "python",
   "nbconvert_exporter": "python",
   "pygments_lexer": "ipython3",
   "version": "3.9.12"
  },
  "orig_nbformat": 4,
  "vscode": {
   "interpreter": {
    "hash": "40d3a090f54c6569ab1632332b64b2c03c39dcf918b08424e98f38b5ae0af88f"
   }
  }
 },
 "nbformat": 4,
 "nbformat_minor": 2
}
