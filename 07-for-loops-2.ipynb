{
 "cells": [
  {
   "cell_type": "markdown",
   "metadata": {},
   "source": [
    "# 07 - For Loops\n",
    "> From W3Schools:\n",
    ">\n",
    "> \"A `for` loop is used for iterating over a sequence (that is either a list, a tuple, a dictionary, a set, or a string).\n",
    ">\n",
    "> With the for loop we can execute a set of statements, once for each item in a list, tuple, set etc.\""
   ]
  },
  {
   "cell_type": "markdown",
   "metadata": {},
   "source": [
    "### Video and Notes:\n",
    "> Video: https://www.youtube.com/watch?v=dHANJ4l6fwA\n",
    ">\n",
    "> Notes: https://www.w3schools.com/python/python_for_loops.asp"
   ]
  },
  {
   "cell_type": "markdown",
   "metadata": {},
   "source": [
    "## To Complete Your Notes:\n",
    "1. Watch the video.\n",
    "2. Review the Notes above.\n",
    "3. Copy the `for` loops from W3Schools below\n",
    "4. Create your own `for` loops below"
   ]
  },
  {
   "cell_type": "markdown",
   "metadata": {},
   "source": [
    "### 3. Copy the `for` loops from W3Schools below"
   ]
  },
  {
   "cell_type": "code",
   "execution_count": 1,
   "metadata": {},
   "outputs": [
    {
     "name": "stdout",
     "output_type": "stream",
     "text": [
      "apple\n",
      "banana\n",
      "cherry\n"
     ]
    }
   ],
   "source": [
    "# Loop through a list\n",
    "fruits = [\"apple\", \"banana\", \"cherry\"]\n",
    "for x in fruits:\n",
    "  print(x)"
   ]
  },
  {
   "cell_type": "code",
   "execution_count": 2,
   "metadata": {},
   "outputs": [
    {
     "name": "stdout",
     "output_type": "stream",
     "text": [
      "b\n",
      "a\n",
      "n\n",
      "a\n",
      "n\n",
      "a\n"
     ]
    }
   ],
   "source": [
    "# Loop through a string\n",
    "for x in \"banana\":\n",
    "  print(x)"
   ]
  },
  {
   "cell_type": "code",
   "execution_count": 3,
   "metadata": {},
   "outputs": [
    {
     "name": "stdout",
     "output_type": "stream",
     "text": [
      "apple\n",
      "banana\n"
     ]
    }
   ],
   "source": [
    "# Use the break statement\n",
    "fruits = [\"apple\", \"banana\", \"cherry\"]\n",
    "for x in fruits:\n",
    "  print(x) \n",
    "  if x == \"banana\":\n",
    "    break"
   ]
  },
  {
   "cell_type": "code",
   "execution_count": 4,
   "metadata": {},
   "outputs": [
    {
     "name": "stdout",
     "output_type": "stream",
     "text": [
      "apple\n"
     ]
    }
   ],
   "source": [
    "# Use the continue statement\n",
    "fruits = [\"apple\", \"banana\", \"cherry\"]\n",
    "for x in fruits:\n",
    "  if x == \"banana\":\n",
    "    break\n",
    "  print(x)"
   ]
  },
  {
   "cell_type": "code",
   "execution_count": 5,
   "metadata": {},
   "outputs": [
    {
     "name": "stdout",
     "output_type": "stream",
     "text": [
      "apple\n",
      "cherry\n"
     ]
    }
   ],
   "source": [
    "# Use the range function to loop through\n",
    "fruits = [\"apple\", \"banana\", \"cherry\"]\n",
    "for x in fruits:\n",
    "  if x == \"banana\":\n",
    "    continue\n",
    "  print(x)"
   ]
  },
  {
   "cell_type": "code",
   "execution_count": 6,
   "metadata": {},
   "outputs": [
    {
     "name": "stdout",
     "output_type": "stream",
     "text": [
      "0\n",
      "1\n",
      "2\n",
      "3\n",
      "4\n",
      "5\n"
     ]
    }
   ],
   "source": [
    "# Use else at the end of a loop\n",
    "for x in range(6):\n",
    "  print(x)"
   ]
  },
  {
   "cell_type": "code",
   "execution_count": 7,
   "metadata": {},
   "outputs": [
    {
     "name": "stdout",
     "output_type": "stream",
     "text": [
      "2\n",
      "3\n",
      "4\n",
      "5\n"
     ]
    }
   ],
   "source": [
    "# Loop through two lists using Nested Loops\n",
    "for x in range(2, 6):\n",
    "  print(x)"
   ]
  },
  {
   "cell_type": "code",
   "execution_count": 8,
   "metadata": {},
   "outputs": [
    {
     "name": "stdout",
     "output_type": "stream",
     "text": [
      "2\n",
      "5\n",
      "8\n",
      "11\n",
      "14\n",
      "17\n",
      "20\n",
      "23\n",
      "26\n",
      "29\n"
     ]
    }
   ],
   "source": [
    "# Use the pass statement\n",
    "for x in range(2, 30, 3):\n",
    "  print(x)"
   ]
  },
  {
   "cell_type": "markdown",
   "metadata": {},
   "source": [
    "### 4. Create your own `for` loops below.\n",
    "> Please create your own `for` loops.\n",
    ">\n",
    "> Please create at least three different loops.\n",
    ">\n",
    "> Try and use different techniques from this lesson and the lessons before."
   ]
  },
  {
   "cell_type": "code",
   "execution_count": 9,
   "metadata": {},
   "outputs": [
    {
     "name": "stdout",
     "output_type": "stream",
     "text": [
      "t\n",
      "h\n",
      "e\n",
      " \n",
      "b\n",
      "we have found the b!\n"
     ]
    }
   ],
   "source": [
    "# Example Loop\n",
    "eric = \"the best guide in the world\"\n",
    "\n",
    "erics_bool = False\n",
    "\n",
    "for x in eric:\n",
    "    if x == 'b':\n",
    "        erics_bool = True\n",
    "    print(x)\n",
    "    if erics_bool:\n",
    "        print(\"we have found the b!\")\n",
    "        break"
   ]
  },
  {
   "cell_type": "code",
   "execution_count": 453,
   "metadata": {},
   "outputs": [
    {
     "name": "stdout",
     "output_type": "stream",
     "text": [
      "# First Loop\n",
      "# First Loop\n",
      "# First Loop\n",
      "# First Loop\n",
      "# First Loop\n",
      "# First Loop\n",
      "# First Loop\n",
      "# First Loop\n",
      "# First Loop\n",
      "# First Loop\n",
      "# First Loop\n",
      "# First Loop\n",
      "# First Loop\n",
      "# First Loop\n",
      "# First Loop\n",
      "# First Loop\n",
      "# First Loop\n",
      "# First Loop\n",
      "# First Loop\n",
      "# First Loop\n",
      "# First Loop\n",
      "# First Loop\n",
      "# First Loop\n",
      "# First Loop\n",
      "# First Loop\n",
      "# First Loop\n",
      "# First Loop\n",
      "# First Loop\n",
      "# First Loop\n",
      "# First Loop\n",
      "# First Loop\n",
      "# First Loop\n",
      "# First Loop\n",
      "# First Loop\n",
      "# First Loop\n",
      "# First Loop\n",
      "# First Loop\n",
      "# First Loop\n",
      "# First Loop\n",
      "# First Loop\n",
      "# First Loop\n",
      "# First Loop\n",
      "# First Loop\n",
      "# First Loop\n",
      "# First Loop\n",
      "# First LoopLoop through a listfruits = [apple, banana, cherrymyvar1\n",
      "# First LoopLoop through a listfruits = [apple, banana, cherrymyvar1\n",
      "# First LoopLoop through a listfruits = [apple, banana, cherrymyvar1\n",
      "myvar1\n",
      "myvar1\n",
      "myvar1\n",
      "myvar1\n",
      "myvar1\n",
      "myvar1\n",
      "myvar1\n",
      "myvar1\n",
      "myvar1\n",
      "myvar1\n",
      "myvar1\n",
      "myvar1\n",
      "myvar1\n",
      "myvar1\n",
      "myvar1\n",
      "myvar1\n",
      "myvar1\n",
      "myvar1\n",
      "myvar1\n",
      "myvar1\n",
      "myvar1\n",
      "myvar1\n",
      "myvar1\n",
      "myvar1\n",
      "myvar1\n",
      "myvar1\n",
      "myvar1\n",
      "myvar1\n",
      "myvar1\n",
      "myvar1\n",
      "myvar1\n",
      "myvar1\n",
      "myvar1\n",
      "myvar1\n",
      "myvar1\n",
      "myvar1\n",
      "myvar1\n",
      "myvar1\n",
      "myvar1\n",
      "myvar1\n",
      "myvar1\n",
      "myvar1\n",
      "myvar1\n",
      "myvar1\n",
      "myvar1\n",
      "92\n"
     ]
    }
   ],
   "source": [
    "# First Loop\n",
    "myvar1=\"# First Loop\"\n",
    "myvar2=\"Loop through a listfruits = [\"\"apple\"\", \"\"banana\"\", \"\"cherry\"\n",
    "myvar3=\"myvar1\"\n",
    "mybool=True\n",
    "\n",
    "for x in range(93):\n",
    "    if x <= 44:\n",
    "        print(myvar1)\n",
    "    if 45 <= x <= 47:\n",
    "        print(myvar1+myvar2+myvar3)\n",
    "    if x >= 48:\n",
    "        print(myvar3)\n",
    "print(x)"
   ]
  },
  {
   "cell_type": "code",
   "execution_count": 444,
   "metadata": {},
   "outputs": [
    {
     "name": "stdout",
     "output_type": "stream",
     "text": [
      "5\n",
      "[5]\n",
      "Get away from me you you filthy rat!\n"
     ]
    }
   ],
   "source": [
    "# Second Loop, couldn't figure out how to make .format work in forloops\n",
    "dict4={\"key8\":\"Aww, thats too bad\", \"key9\":\"That's amazing!\", \"key10\":\"Get away from me you you filthy rat!\"}\n",
    "\n",
    "import random\n",
    "c=random.randrange(1,10)\n",
    "print(c)\n",
    "\n",
    "d=[c]\n",
    "print(d)\n",
    "\n",
    "e=\", anyway, see you tomorrow!!?!\"\n",
    "\n",
    "for x in d:\n",
    "        if 1<=c<5:\n",
    "            print(dict4[\"key8\"]+ e)\n",
    "        if c ==5:\n",
    "            print(dict4[\"key10\"])\n",
    "        if 5<c<=10:\n",
    "            print(dict4[\"key9\"]+ e)\n"
   ]
  },
  {
   "cell_type": "code",
   "execution_count": 366,
   "metadata": {},
   "outputs": [
    {
     "name": "stdout",
     "output_type": "stream",
     "text": [
      "7\n",
      "14\n",
      "[98]\n",
      "350623121057.27136\n"
     ]
    }
   ],
   "source": [
    "# Third Loop\n",
    "import random\n",
    "a=random.randrange(1,10)\n",
    "print(a)\n",
    "\n",
    "b=random.randrange(11,20)\n",
    "print(b)\n",
    "\n",
    "c=[a*b]\n",
    "print(c)\n",
    "for x in c:\n",
    "    if 11<x<121:\n",
    "        print(a**b/(b**0.25))\n",
    "    elif 122<x<200:\n",
    "        print((a*b)/len(myvar3))\n",
    "    else:\n",
    "        print(\"the value is either 11, 121, 122 or 200\")"
   ]
  },
  {
   "cell_type": "code",
   "execution_count": 454,
   "metadata": {},
   "outputs": [
    {
     "name": "stdout",
     "output_type": "stream",
     "text": [
      "c\n",
      "e\n",
      "t\n",
      "e\n",
      "u\n",
      "c\n",
      "a\n",
      "o\n",
      "d\n",
      "o\n",
      "a\n",
      "t\n",
      "a\n",
      "e\n",
      "o\n",
      "t\n",
      "g\n",
      "r\n",
      "n\n",
      "e\n",
      "g\n",
      "d\n",
      "a\n",
      "k\n",
      "i\n",
      "a\n",
      "l\n",
      "r\n",
      "p\n",
      "e\n",
      "l\n",
      "a\n",
      "e\n",
      "c\n",
      "S\n"
     ]
    }
   ],
   "source": [
    "\"\"\"For extra credit: try and create a for loop that takes the string below (A Yeah \n",
    "Yeah Yeahs lyric from Sweets) and alters it as much as possible in five lines or \n",
    "less of code. Long strings can be extended to the next line using \\ \"\"\"\n",
    "\n",
    "extra = \"Secret blue purple pink and green right over it. Hold on 'cause the \\\n",
    "coldest hasn't thawed yet\"\n",
    "\n",
    "for x in extra[68::-2]:\n",
    "    if x == \" \":\n",
    "        print(\"a\")\n",
    "        continue\n",
    "    print(x)"
   ]
  }
 ],
 "metadata": {
  "kernelspec": {
   "display_name": "Python 3.9.12 ('base')",
   "language": "python",
   "name": "python3"
  },
  "language_info": {
   "codemirror_mode": {
    "name": "ipython",
    "version": 3
   },
   "file_extension": ".py",
   "mimetype": "text/x-python",
   "name": "python",
   "nbconvert_exporter": "python",
   "pygments_lexer": "ipython3",
   "version": "3.9.12"
  },
  "orig_nbformat": 4,
  "vscode": {
   "interpreter": {
    "hash": "1a5ce88e651f61be5c839edd228e31d735191f1c27ef034e85c5d847ed857e96"
   }
  }
 },
 "nbformat": 4,
 "nbformat_minor": 2
}
